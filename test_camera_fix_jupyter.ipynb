{
 "cells": [
  {
   "cell_type": "markdown",
   "metadata": {},
   "source": [
    "# Camera Fix Verification\n",
    "\n",
    "Testing that the camera fix resolves the y=0 line issue"
   ]
  },
  {
   "cell_type": "code",
   "execution_count": 1,
   "metadata": {},
   "outputs": [
    {
     "name": "stdout",
     "output_type": "stream",
     "text": [
      "🔧 Testing camera fix...\n"
     ]
    }
   ],
   "source": [
    "import numpy as np\n",
    "import sys\n",
    "sys.path.insert(0, '/Users/jmanning/hypertools')\n",
    "import hypertools as hyp\n",
    "\n",
    "print(\"🔧 Testing camera fix...\")"
   ]
  },
  {
   "cell_type": "code",
   "execution_count": 2,
   "metadata": {},
   "outputs": [
    {
     "name": "stdout",
     "output_type": "stream",
     "text": [
      "Test 1: 2D Scatter Points\n",
      "Y range: -3 to 3\n",
      "Should see 5 red points clearly separated vertically\n"
     ]
    },
    {
     "data": {
      "application/vnd.jupyter.widget-view+json": {
       "model_id": "aa47bfd07ad24b0a880b7c3c0f3a3abc",
       "version_major": 2,
       "version_minor": 0
      },
      "text/plain": [
       "Renderer(camera=OrthographicCamera(bottom=-3.6, far=1000.0, left=-2.4, position=(0.0, 0.0, 10.0), projectionMa…"
      ]
     },
     "execution_count": 2,
     "metadata": {},
     "output_type": "execute_result"
    }
   ],
   "source": [
    "# Test 1: Simple 2D scatter that was problematic before\n",
    "print(\"Test 1: 2D Scatter Points\")\n",
    "\n",
    "# Create test data with clear Y separation\n",
    "test_data = np.array([\n",
    "    [0, 3],    # Top point\n",
    "    [0, 0],    # Center point  \n",
    "    [0, -3],   # Bottom point\n",
    "    [2, 1],    # Right-top\n",
    "    [-2, -1]   # Left-bottom\n",
    "])\n",
    "\n",
    "print(f\"Y range: {test_data[:, 1].min()} to {test_data[:, 1].max()}\")\n",
    "print(\"Should see 5 red points clearly separated vertically\")\n",
    "\n",
    "fig1 = hyp.plot(test_data, 'ro', markersize=15, alpha=0.8)\n",
    "fig1.show()"
   ]
  },
  {
   "cell_type": "code",
   "execution_count": 3,
   "metadata": {},
   "outputs": [
    {
     "name": "stdout",
     "output_type": "stream",
     "text": [
      "Test 2: Random 2D Data (Original Problem Case)\n",
      "Y range: -3.01 to 4.37\n",
      "Should see 10 blue circles distributed across Y range\n"
     ]
    },
    {
     "data": {
      "application/vnd.jupyter.widget-view+json": {
       "model_id": "6338feb447034b538368f2dd5d2936f5",
       "version_major": 2,
       "version_minor": 0
      },
      "text/plain": [
       "Renderer(camera=OrthographicCamera(bottom=-3.7512055884145603, far=1000.0, left=-5.7798803520098545, position=…"
      ]
     },
     "execution_count": 3,
     "metadata": {},
     "output_type": "execute_result"
    }
   ],
   "source": [
    "# Test 2: Random data that was failing before\n",
    "print(\"Test 2: Random 2D Data (Original Problem Case)\")\n",
    "\n",
    "np.random.seed(123)\n",
    "random_data = np.random.randn(10, 2) * 2\n",
    "print(f\"Y range: {random_data[:, 1].min():.2f} to {random_data[:, 1].max():.2f}\")\n",
    "print(\"Should see 10 blue circles distributed across Y range\")\n",
    "\n",
    "fig2 = hyp.plot(random_data, 'bo', markersize=10, alpha=0.7)\n",
    "fig2.show()"
   ]
  },
  {
   "cell_type": "code",
   "execution_count": 4,
   "metadata": {},
   "outputs": [
    {
     "name": "stdout",
     "output_type": "stream",
     "text": [
      "Test 3: Line Plot\n",
      "Should see green circle line\n"
     ]
    },
    {
     "data": {
      "application/vnd.jupyter.widget-view+json": {
       "model_id": "8f46889110dc404fac3f9c779cd77f61",
       "version_major": 2,
       "version_minor": 0
      },
      "text/plain": [
       "Renderer(camera=OrthographicCamera(bottom=-1.1993834594408255, far=1000.0, left=-1.19773993202537, position=(0…"
      ]
     },
     "execution_count": 4,
     "metadata": {},
     "output_type": "execute_result"
    }
   ],
   "source": [
    "# Test 3: Line plot to ensure lines still work\n",
    "print(\"Test 3: Line Plot\")\n",
    "\n",
    "t = np.linspace(0, 2*np.pi, 50)\n",
    "circle_data = np.column_stack([np.cos(t), np.sin(t)])\n",
    "print(\"Should see green circle line\")\n",
    "\n",
    "fig3 = hyp.plot(circle_data, 'g-', linewidth=3)\n",
    "fig3.show()"
   ]
  },
  {
   "cell_type": "code",
   "execution_count": 5,
   "metadata": {},
   "outputs": [
    {
     "name": "stdout",
     "output_type": "stream",
     "text": [
      "\n",
      "📷 Camera Debug Info:\n",
      "Fig1 camera position: (0.0, 6.123233995736766e-16, 10.0)\n",
      "Fig1 camera bounds: L=-2.4, R=2.4, T=3.6, B=-3.6\n",
      "Fig1 controls target: (0.0, 0.0, 0.0)\n"
     ]
    }
   ],
   "source": [
    "# Check camera details for debugging\n",
    "print(\"\\n📷 Camera Debug Info:\")\n",
    "print(f\"Fig1 camera position: {fig1.camera.position}\")\n",
    "print(f\"Fig1 camera bounds: L={fig1.camera.left:.1f}, R={fig1.camera.right:.1f}, T={fig1.camera.top:.1f}, B={fig1.camera.bottom:.1f}\")\n",
    "print(f\"Fig1 controls target: {fig1.controls[0].target if hasattr(fig1.controls[0], 'target') else 'N/A'}\")"
   ]
  },
  {
   "cell_type": "markdown",
   "metadata": {},
   "source": [
    "## Expected Results\n",
    "\n",
    "If the camera fix works:\n",
    "\n",
    "1. **Test 1**: 5 red points should be clearly separated vertically (not on y=0 line)\n",
    "2. **Test 2**: 10 blue points should be distributed across the full Y range  \n",
    "3. **Test 3**: Green circle should display properly\n",
    "4. **Camera**: Position should be (x_center, y_center, 10) with proper target\n",
    "\n",
    "If these display correctly, the camera fix has resolved the y=0 line issue! 🎉"
   ]
  }
 ],
 "metadata": {
  "kernelspec": {
   "display_name": "Python 3",
   "language": "python",
   "name": "python3"
  },
  "language_info": {
   "codemirror_mode": {
    "name": "ipython",
    "version": 3
   },
   "file_extension": ".py",
   "mimetype": "text/x-python",
   "name": "python",
   "nbconvert_exporter": "python",
   "pygments_lexer": "ipython3",
   "version": "3.12.4"
  }
 },
 "nbformat": 4,
 "nbformat_minor": 4
}
