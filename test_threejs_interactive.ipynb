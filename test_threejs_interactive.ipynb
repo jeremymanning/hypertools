{
 "cells": [
  {
   "cell_type": "markdown",
   "metadata": {},
   "source": [
    "# HyperTools Three.js Interactive Verification\n",
    "\n",
    "This notebook displays the actual Three.js figures for visual verification.\n",
    "Each figure should be interactive (3D rotation, zoom, pan) and match the matplotlib versions."
   ]
  },
  {
   "cell_type": "code",
   "execution_count": null,
   "metadata": {},
   "outputs": [],
   "source": [
    "import numpy as np\n",
    "import pandas as pd\n",
    "import sys\n",
    "import os\n",
    "\n",
    "# Add hypertools to path\n",
    "sys.path.insert(0, '/Users/jmanning/hypertools')\n",
    "\n",
    "import hypertools as hyp\n",
    "from hypertools.core.threejs_backend import HyperToolsFigure"
   ]
  },
  {
   "cell_type": "markdown",
   "metadata": {},
   "source": [
    "## Figure 1: 2D Scatter Plot (red circles)\n",
    "Should show red circular points, not lines"
   ]
  },
  {
   "cell_type": "code",
   "execution_count": null,
   "metadata": {},
   "outputs": [],
   "source": [
    "np.random.seed(123)\n",
    "data_2d_scatter = np.random.randn(50, 2) * 2\n",
    "fig1 = hyp.plot(data_2d_scatter, 'ro', markersize=8, alpha=0.7)\n",
    "fig1.show()"
   ]
  },
  {
   "cell_type": "markdown",
   "metadata": {},
   "source": [
    "## Figure 2: 2D Line Plot (blue line)\n",
    "Should show smooth blue circle line"
   ]
  },
  {
   "cell_type": "code",
   "execution_count": null,
   "metadata": {},
   "outputs": [],
   "source": [
    "t = np.linspace(0, 2*np.pi, 100)\n",
    "data_2d_line = np.column_stack([np.cos(t), np.sin(t)])\n",
    "fig2 = hyp.plot(data_2d_line, 'b-', linewidth=3)\n",
    "fig2.show()"
   ]
  },
  {
   "cell_type": "markdown",
   "metadata": {},
   "source": [
    "## Figure 3: 2D Spiral (green line + circles)\n",
    "Should show green spiral with both line and circle markers"
   ]
  },
  {
   "cell_type": "code",
   "execution_count": null,
   "metadata": {},
   "outputs": [],
   "source": [
    "t = np.linspace(0, 4*np.pi, 50)\n",
    "data_spiral = np.column_stack([t * np.cos(t) / 10, t * np.sin(t) / 10])\n",
    "fig3 = hyp.plot(data_spiral, 'go-', linewidth=2, markersize=6)\n",
    "fig3.show()"
   ]
  },
  {
   "cell_type": "markdown",
   "metadata": {},
   "source": [
    "## Figure 4: 3D Scatter Plot (magenta circles)\n",
    "Should show magenta points in 3D space with rotation capability"
   ]
  },
  {
   "cell_type": "code",
   "execution_count": null,
   "metadata": {},
   "outputs": [],
   "source": [
    "np.random.seed(456)\n",
    "data_3d_scatter = np.random.randn(40, 3)\n",
    "fig4 = hyp.plot(data_3d_scatter, 'mo', markersize=10, alpha=0.8)\n",
    "fig4.show()"
   ]
  },
  {
   "cell_type": "markdown",
   "metadata": {},
   "source": [
    "## Figure 5: 3D Helix (red line)\n",
    "Should show red helical/spiral line in 3D with interactive rotation"
   ]
  },
  {
   "cell_type": "code",
   "execution_count": null,
   "metadata": {},
   "outputs": [],
   "source": [
    "t = np.linspace(0, 6*np.pi, 120)\n",
    "data_3d_helix = np.column_stack([np.cos(t), np.sin(t), t/3])\n",
    "fig5 = hyp.plot(data_3d_helix, 'r-', linewidth=4)\n",
    "fig5.show()"
   ]
  },
  {
   "cell_type": "markdown",
   "metadata": {},
   "source": [
    "## Figure 6: Multiple Datasets (sin, cos, sin*cos)\n",
    "Should show: red solid sin wave, blue dashed cos wave, green circles with sin*cos"
   ]
  },
  {
   "cell_type": "code",
   "execution_count": null,
   "metadata": {},
   "outputs": [],
   "source": [
    "t = np.linspace(0, 4*np.pi, 80)\n",
    "data1 = np.column_stack([t, np.sin(t)])\n",
    "data2 = np.column_stack([t, np.cos(t)])\n",
    "data3 = np.column_stack([t, np.sin(t) * np.cos(t/2)])\n",
    "fig6 = hyp.plot([data1, data2, data3], ['r-', 'b--', 'go'], linewidth=[2, 3, 1])\n",
    "fig6.show()"
   ]
  },
  {
   "cell_type": "markdown",
   "metadata": {},
   "source": [
    "## Figure 7: Dashed Line Style\n",
    "Should show black dashed sin wave"
   ]
  },
  {
   "cell_type": "code",
   "execution_count": null,
   "metadata": {},
   "outputs": [],
   "source": [
    "x = np.linspace(0, 10, 50)\n",
    "y = np.sin(x)\n",
    "fig7 = hyp.plot(np.column_stack([x, y]), 'k--', linewidth=3)\n",
    "fig7.show()"
   ]
  },
  {
   "cell_type": "markdown",
   "metadata": {},
   "source": [
    "## Figure 8: Single Point (auto-converted to marker)\n",
    "Should show single large blue circle (auto-converted from line to marker)"
   ]
  },
  {
   "cell_type": "code",
   "execution_count": null,
   "metadata": {},
   "outputs": [],
   "source": [
    "single_point = np.array([[3, 2]])\n",
    "fig8 = hyp.plot(single_point, 'b-', markersize=15)\n",
    "fig8.show()"
   ]
  },
  {
   "cell_type": "markdown",
   "metadata": {},
   "source": [
    "## Figure 9: Triangle Markers\n",
    "Should show red triangle-shaped markers"
   ]
  },
  {
   "cell_type": "code",
   "execution_count": null,
   "metadata": {},
   "outputs": [],
   "source": [
    "np.random.seed(789)\n",
    "data_markers = np.random.randn(20, 2)\n",
    "fig9 = hyp.plot(data_markers, 'r^', markersize=12, alpha=0.8)\n",
    "fig9.show()"
   ]
  },
  {
   "cell_type": "markdown",
   "metadata": {},
   "source": [
    "## Figure 10: Line Interpolation (5 points → 100)\n",
    "Should show smooth green curve through 5 control points"
   ]
  },
  {
   "cell_type": "code",
   "execution_count": null,
   "metadata": {},
   "outputs": [],
   "source": [
    "sparse_data = np.array([[0, 0], [1, 2], [3, 1], [5, 3], [7, 0]])\n",
    "fig10 = hyp.plot(sparse_data, 'g-', linewidth=3, interpolation_samples=100)\n",
    "fig10.show()"
   ]
  },
  {
   "cell_type": "markdown",
   "metadata": {},
   "source": [
    "## Summary\n",
    "\n",
    "All figures above should display as interactive Three.js plots with:\n",
    "\n",
    "**2D Plots:**\n",
    "- Pan and zoom controls (no rotation)\n",
    "- Clean appearance without axis labels\n",
    "\n",
    "**3D Plots:**\n",
    "- Full orbit controls (rotate, pan, zoom)\n",
    "- Interactive 3D navigation\n",
    "- Grid for depth perception\n",
    "\n",
    "**Features to verify:**\n",
    "- ✅ Correct colors matching format strings\n",
    "- ✅ Proper line vs marker rendering\n",
    "- ✅ Multiple dataset styling\n",
    "- ✅ Smooth interpolation\n",
    "- ✅ Interactive controls\n",
    "- ✅ Clean visual styling"
   ]
  }
 ],
 "metadata": {
  "kernelspec": {
   "display_name": "Python 3",
   "language": "python",
   "name": "python3"
  },
  "language_info": {
   "codemirror_mode": {
    "name": "ipython",
    "version": 3
   },
   "file_extension": ".py",
   "mimetype": "text/x-python",
   "name": "python",
   "nbconvert_exporter": "python",
   "pygments_lexer": "ipython3",
   "version": "3.8.5"
  }
 },
 "nbformat": 4,
 "nbformat_minor": 4
}