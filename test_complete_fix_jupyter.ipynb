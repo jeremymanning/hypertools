{
 "cells": [
  {
   "cell_type": "markdown",
   "metadata": {},
   "source": [
    "# Complete Camera & Material Fix Test\n",
    "\n",
    "Testing the final fixes:\n",
    "- Perspective camera (instead of orthographic)\n",
    "- Enhanced materials (2x larger points, 2x thicker lines)\n",
    "- Better lighting (ambient + directional + point)\n",
    "- Auto-show functionality"
   ]
  },
  {
   "cell_type": "code",
   "execution_count": null,
   "metadata": {},
   "outputs": [],
   "source": [
    "import numpy as np\n",
    "import sys\n",
    "sys.path.insert(0, '/Users/jmanning/hypertools')\n",
    "import hypertools as hyp\n",
    "\n",
    "print(\"🎯 Testing complete fixes...\")"
   ]
  },
  {
   "cell_type": "code",
   "execution_count": null,
   "metadata": {},
   "outputs": [],
   "source": [
    "# Test 1: Vertical separation test\n",
    "print(\"Test 1: Vertical Separation (should see 3 red dots: top, center, bottom)\")\n",
    "\n",
    "vertical_data = np.array([\n",
    "    [0, 3],    # Top\n",
    "    [0, 0],    # Center  \n",
    "    [0, -3]    # Bottom\n",
    "])\n",
    "\n",
    "print(f\"Y coordinates: {vertical_data[:, 1]}\")\n",
    "print(\"Should see: Red dots clearly separated vertically (NOT on horizontal line)\")\n",
    "\n",
    "# Auto-display with enhanced materials\n",
    "hyp.plot(vertical_data, 'ro', markersize=15, alpha=0.9)"
   ]
  },
  {
   "cell_type": "code",
   "execution_count": null,
   "metadata": {},
   "outputs": [],
   "source": [
    "# Test 2: Cross pattern test\n",
    "print(\"Test 2: Cross Pattern (should see 4 blue dots in + shape)\")\n",
    "\n",
    "cross_data = np.array([\n",
    "    [0, 2],    # Top\n",
    "    [2, 0],    # Right\n",
    "    [0, -2],   # Bottom\n",
    "    [-2, 0]    # Left\n",
    "])\n",
    "\n",
    "print(f\"Data coordinates: {cross_data}\")\n",
    "print(\"Should see: Blue dots in clear cross/plus pattern\")\n",
    "\n",
    "hyp.plot(cross_data, 'bo', markersize=12, alpha=0.8)"
   ]
  },
  {
   "cell_type": "code",
   "execution_count": null,
   "metadata": {},
   "outputs": [],
   "source": [
    "# Test 3: Enhanced line plot\n",
    "print(\"Test 3: Enhanced Circle Line (should see thick green circle)\")\n",
    "\n",
    "t = np.linspace(0, 2*np.pi, 30)\n",
    "circle = np.column_stack([np.cos(t), np.sin(t)])\n",
    "\n",
    "print(\"Should see: Thick green circle line (enhanced thickness)\")\n",
    "\n",
    "hyp.plot(circle, 'g-', linewidth=3, alpha=0.8)"
   ]
  },
  {
   "cell_type": "code",
   "execution_count": null,
   "metadata": {},
   "outputs": [],
   "source": [
    "# Test 4: Random scatter (original failing case)\n",
    "print(\"Test 4: Random Scatter (original problem case)\")\n",
    "\n",
    "np.random.seed(123)\n",
    "random_data = np.random.randn(10, 2) * 2\n",
    "\n",
    "print(f\"Y range: {random_data[:, 1].min():.2f} to {random_data[:, 1].max():.2f}\")\n",
    "print(\"Should see: Magenta points distributed across FULL Y range\")\n",
    "\n",
    "hyp.plot(random_data, 'mo', markersize=10, alpha=0.7)"
   ]
  },
  {
   "cell_type": "code",
   "execution_count": null,
   "metadata": {},
   "outputs": [],
   "source": [
    "# Debug info for last figure\n",
    "# Note: Get the figure object manually since auto-show returns the widget\n",
    "fig_debug = hyp.plot.__wrapped__(random_data, 'ko', markersize=8)  # Get figure without auto-show\n",
    "\n",
    "print(\"📷 Debug Info:\")\n",
    "print(f\"Camera type: {type(fig_debug.camera).__name__}\")\n",
    "print(f\"Camera position: {fig_debug.camera.position}\")\n",
    "print(f\"Camera FOV: {fig_debug.camera.fov}\")\n",
    "print(f\"Controls target: {fig_debug.controls[0].target if hasattr(fig_debug.controls[0], 'target') else 'N/A'}\")\n",
    "print(f\"Data dimensionality: {fig_debug.dimensionality}\")"
   ]
  },
  {
   "cell_type": "markdown",
   "metadata": {},
   "source": [
    "## Expected Results ✅\n",
    "\n",
    "If the fixes work correctly:\n",
    "\n",
    "1. **Test 1**: 3 red dots clearly separated vertically (top/center/bottom)\n",
    "2. **Test 2**: 4 blue dots in clear cross pattern  \n",
    "3. **Test 3**: Thick green circle (enhanced line thickness)\n",
    "4. **Test 4**: Magenta points distributed across full Y range (not on y=0 line)\n",
    "\n",
    "## Improvements ✨\n",
    "\n",
    "- **Camera**: PerspectiveCamera positioned above data\n",
    "- **Visibility**: 2x larger points, 2x thicker lines\n",
    "- **Lighting**: Enhanced ambient + directional + point lights\n",
    "- **Auto-display**: Works like matplotlib in Jupyter\n",
    "\n",
    "**Success = Points and lines clearly visible at correct Y coordinates!** 🎉"
   ]
  }
 ],
 "metadata": {
  "kernelspec": {
   "display_name": "Python 3",
   "language": "python",
   "name": "python3"
  },
  "language_info": {
   "codemirror_mode": {
    "name": "ipython",
    "version": 3
   },
   "file_extension": ".py",
   "mimetype": "text/x-python",
   "name": "python",
   "nbconvert_exporter": "python",
   "pygments_lexer": "ipython3",
   "version": "3.8.5"
  }
 },
 "nbformat": 4,
 "nbformat_minor": 4
}