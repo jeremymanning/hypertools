{
 "cells": [
  {
   "cell_type": "markdown",
   "metadata": {},
   "source": [
    "# Auto-Show Test\n",
    "\n",
    "Testing that `hyp.plot()` automatically displays like matplotlib"
   ]
  },
  {
   "cell_type": "code",
   "execution_count": null,
   "metadata": {},
   "outputs": [],
   "source": [
    "import numpy as np\n",
    "import sys\n",
    "sys.path.insert(0, '/Users/jmanning/hypertools')\n",
    "import hypertools as hyp\n",
    "\n",
    "print(\"✅ Imports successful\")"
   ]
  },
  {
   "cell_type": "code",
   "execution_count": null,
   "metadata": {},
   "outputs": [],
   "source": [
    "# Test 1: Simple plot should auto-display\n",
    "print(\"Test 1: Simple 2D scatter (should auto-display)\")\n",
    "\n",
    "data = np.array([\n",
    "    [0, 2],    # Top\n",
    "    [1, 0],    # Right\n",
    "    [0, -2],   # Bottom\n",
    "    [-1, 0]    # Left\n",
    "])\n",
    "\n",
    "# This should automatically display the widget\n",
    "hyp.plot(data, 'ro', markersize=15)"
   ]
  },
  {
   "cell_type": "code",
   "execution_count": null,
   "metadata": {},
   "outputs": [],
   "source": [
    "# Test 2: Line plot should auto-display\n",
    "print(\"Test 2: Line plot (should auto-display)\")\n",
    "\n",
    "t = np.linspace(0, 2*np.pi, 30)\n",
    "circle = np.column_stack([np.cos(t), np.sin(t)])\n",
    "\n",
    "# This should automatically display the widget\n",
    "hyp.plot(circle, 'b-', linewidth=3)"
   ]
  },
  {
   "cell_type": "markdown",
   "metadata": {},
   "source": [
    "## Expected Results\n",
    "\n",
    "If auto-show is working correctly:\n",
    "\n",
    "1. **Test 1**: Should see 4 red dots in cross pattern (auto-displayed)\n",
    "2. **Test 2**: Should see blue circle line (auto-displayed)\n",
    "3. **No need to call `.show()`** - works like matplotlib!\n",
    "\n",
    "This matches matplotlib's behavior where `plt.plot()` automatically displays in Jupyter."
   ]
  }
 ],
 "metadata": {
  "kernelspec": {
   "display_name": "Python 3",
   "language": "python",
   "name": "python3"
  },
  "language_info": {
   "codemirror_mode": {
    "name": "ipython",
    "version": 3
   },
   "file_extension": ".py",
   "mimetype": "text/x-python",
   "name": "python",
   "nbconvert_exporter": "python",
   "pygments_lexer": "ipython3",
   "version": "3.8.5"
  }
 },
 "nbformat": 4,
 "nbformat_minor": 4
}