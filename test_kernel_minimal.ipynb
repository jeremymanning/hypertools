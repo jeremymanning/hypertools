{
 "cells": [
  {
   "cell_type": "markdown",
   "metadata": {},
   "source": [
    "# Minimal Kernel Test\n",
    "\n",
    "Testing kernel connection with minimal code"
   ]
  },
  {
   "cell_type": "code",
   "execution_count": 1,
   "metadata": {},
   "outputs": [
    {
     "name": "stdout",
     "output_type": "stream",
     "text": [
      "Hello from Jupyter!\n",
      "NumPy version: 1.26.4\n"
     ]
    }
   ],
   "source": [
    "# Test 1: Basic Python\n",
    "print(\"Hello from Jupyter!\")\n",
    "import numpy as np\n",
    "print(f\"NumPy version: {np.__version__}\")"
   ]
  },
  {
   "cell_type": "code",
   "execution_count": 2,
   "metadata": {},
   "outputs": [
    {
     "name": "stdout",
     "output_type": "stream",
     "text": [
      "Testing pythreejs...\n",
      "pythreejs imported successfully\n",
      "Simple cube created\n"
     ]
    }
   ],
   "source": [
    "# Test 2: Simple pythreejs (no HyperTools)\n",
    "print(\"Testing pythreejs...\")\n",
    "import pythreejs as p3js\n",
    "print(\"pythreejs imported successfully\")\n",
    "\n",
    "# Create a simple cube\n",
    "scene = p3js.Scene()\n",
    "geometry = p3js.BoxGeometry(width=1, height=1, depth=1)\n",
    "material = p3js.MeshBasicMaterial(color='red')\n",
    "cube = p3js.Mesh(geometry=geometry, material=material)\n",
    "scene.add(cube)\n",
    "print(\"Simple cube created\")"
   ]
  },
  {
   "cell_type": "code",
   "execution_count": 3,
   "metadata": {},
   "outputs": [
    {
     "name": "stdout",
     "output_type": "stream",
     "text": [
      "Renderer created, attempting display...\n"
     ]
    },
    {
     "data": {
      "application/vnd.jupyter.widget-view+json": {
       "model_id": "0f7774fe7003448fbcf3808ed3ee4cff",
       "version_major": 2,
       "version_minor": 0
      },
      "text/plain": [
       "Renderer(camera=PerspectiveCamera(far=1000.0, fov=75.0, position=(0.0, 0.0, 5.0), projectionMatrix=(1.0, 0.0, …"
      ]
     },
     "execution_count": 3,
     "metadata": {},
     "output_type": "execute_result"
    }
   ],
   "source": [
    "# Test 3: Try to display the cube\n",
    "camera = p3js.PerspectiveCamera(fov=75, aspect=1.0, near=0.1, far=1000)\n",
    "camera.position = [0, 0, 5]\n",
    "\n",
    "renderer = p3js.Renderer(\n",
    "    camera=camera,\n",
    "    scene=scene,\n",
    "    controls=[p3js.OrbitControls(controlling=camera)],\n",
    "    width=400,\n",
    "    height=300\n",
    ")\n",
    "\n",
    "print(\"Renderer created, attempting display...\")\n",
    "renderer"
   ]
  },
  {
   "cell_type": "code",
   "execution_count": 4,
   "metadata": {},
   "outputs": [
    {
     "name": "stdout",
     "output_type": "stream",
     "text": [
      "Testing HyperTools...\n",
      "HyperTools imported successfully\n"
     ]
    }
   ],
   "source": [
    "# Test 4: Only if above works, test HyperTools\n",
    "print(\"Testing HyperTools...\")\n",
    "import sys\n",
    "sys.path.insert(0, '/Users/jmanning/hypertools')\n",
    "import hypertools as hyp\n",
    "print(\"HyperTools imported successfully\")"
   ]
  },
  {
   "cell_type": "code",
   "execution_count": 10,
   "metadata": {},
   "outputs": [],
   "source": [
    "x = hyp.plot([[1, 2, 3], [4, 5, 6], [7, 8, 9]], 'ko', markersize=100)"
   ]
  },
  {
   "cell_type": "code",
   "execution_count": 11,
   "metadata": {},
   "outputs": [
    {
     "data": {
      "application/vnd.jupyter.widget-view+json": {
       "model_id": "89efb645ecf84897a6f2f99d898dc05b",
       "version_major": 2,
       "version_minor": 0
      },
      "text/plain": [
       "Renderer(camera=PerspectiveCamera(far=1000.0, fov=75.0, position=(16.0, 17.0, 18.0), projectionMatrix=(1.30322…"
      ]
     },
     "execution_count": 11,
     "metadata": {},
     "output_type": "execute_result"
    }
   ],
   "source": [
    "x.show()"
   ]
  },
  {
   "cell_type": "code",
   "execution_count": null,
   "metadata": {},
   "outputs": [],
   "source": []
  }
 ],
 "metadata": {
  "kernelspec": {
   "display_name": "Python 3",
   "language": "python",
   "name": "python3"
  },
  "language_info": {
   "codemirror_mode": {
    "name": "ipython",
    "version": 3
   },
   "file_extension": ".py",
   "mimetype": "text/x-python",
   "name": "python",
   "nbconvert_exporter": "python",
   "pygments_lexer": "ipython3",
   "version": "3.12.4"
  }
 },
 "nbformat": 4,
 "nbformat_minor": 4
}
