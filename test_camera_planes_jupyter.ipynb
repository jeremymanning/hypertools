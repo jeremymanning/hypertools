{
 "cells": [
  {
   "cell_type": "code",
   "execution_count": 1,
   "metadata": {},
   "outputs": [
    {
     "name": "stdout",
     "output_type": "stream",
     "text": [
      "🎯 Setting up camera plane debug test...\n",
      "✅ Created scene with three manually positioned colored planes and coordinate axes\n",
      "🔴 RED square: XY plane (Z=0) - where 2D data lives\n",
      "🟢 GREEN square: XZ plane (Y=0)\n",
      "🔵 BLUE square: YZ plane (X=0)\n"
     ]
    }
   ],
   "source": [
    "import numpy as np\n",
    "import pythreejs as p3js\n",
    "from IPython.display import display\n",
    "\n",
    "print(\"🎯 Setting up camera plane debug test...\")\n",
    "\n",
    "def create_plane_debug_scene():\n",
    "    \"\"\"Create a scene with three colored squares on different planes\"\"\"\n",
    "    \n",
    "    # Create scene\n",
    "    scene = p3js.Scene()\n",
    "    \n",
    "    # 1. XY plane (Z=0) - RED square (where our 2D data should be)\n",
    "    # Create vertices manually for XY plane\n",
    "    xy_vertices = np.array([\n",
    "        [-2, -2, 0],  # Bottom left\n",
    "        [ 2, -2, 0],  # Bottom right\n",
    "        [ 2,  2, 0],  # Top right\n",
    "        [-2,  2, 0],  # Top left\n",
    "    ], dtype=np.float32)\n",
    "    \n",
    "    xy_faces = np.array([\n",
    "        [0, 1, 2],  # First triangle\n",
    "        [0, 2, 3]   # Second triangle\n",
    "    ], dtype=np.uint32)\n",
    "    \n",
    "    xy_geometry = p3js.BufferGeometry(\n",
    "        attributes={\n",
    "            'position': p3js.BufferAttribute(array=xy_vertices.flatten(), itemSize=3),\n",
    "            'index': p3js.BufferAttribute(array=xy_faces.flatten())\n",
    "        }\n",
    "    )\n",
    "    xy_material = p3js.MeshBasicMaterial(color='red', side='DoubleSide', transparent=True, opacity=0.8)\n",
    "    xy_plane = p3js.Mesh(geometry=xy_geometry, material=xy_material)\n",
    "    scene.add(xy_plane)\n",
    "    \n",
    "    # 2. XZ plane (Y=0) - GREEN square\n",
    "    # Create vertices manually for XZ plane  \n",
    "    xz_vertices = np.array([\n",
    "        [-2, 0, -2],  # Back left\n",
    "        [ 2, 0, -2],  # Back right\n",
    "        [ 2, 0,  2],  # Front right\n",
    "        [-2, 0,  2],  # Front left\n",
    "    ], dtype=np.float32)\n",
    "    \n",
    "    xz_geometry = p3js.BufferGeometry(\n",
    "        attributes={\n",
    "            'position': p3js.BufferAttribute(array=xz_vertices.flatten(), itemSize=3),\n",
    "            'index': p3js.BufferAttribute(array=xy_faces.flatten())  # Same face indices\n",
    "        }\n",
    "    )\n",
    "    xz_material = p3js.MeshBasicMaterial(color='green', side='DoubleSide', transparent=True, opacity=0.8)\n",
    "    xz_plane = p3js.Mesh(geometry=xz_geometry, material=xz_material)\n",
    "    scene.add(xz_plane)\n",
    "    \n",
    "    # 3. YZ plane (X=0) - BLUE square\n",
    "    # Create vertices manually for YZ plane\n",
    "    yz_vertices = np.array([\n",
    "        [0, -2, -2],  # Back bottom\n",
    "        [0,  2, -2],  # Back top\n",
    "        [0,  2,  2],  # Front top\n",
    "        [0, -2,  2],  # Front bottom\n",
    "    ], dtype=np.float32)\n",
    "    \n",
    "    yz_geometry = p3js.BufferGeometry(\n",
    "        attributes={\n",
    "            'position': p3js.BufferAttribute(array=yz_vertices.flatten(), itemSize=3),\n",
    "            'index': p3js.BufferAttribute(array=xy_faces.flatten())  # Same face indices\n",
    "        }\n",
    "    )\n",
    "    yz_material = p3js.MeshBasicMaterial(color='blue', side='DoubleSide', transparent=True, opacity=0.8)\n",
    "    yz_plane = p3js.Mesh(geometry=yz_geometry, material=yz_material)\n",
    "    scene.add(yz_plane)\n",
    "    \n",
    "    # Add coordinate axes for reference\n",
    "    # X axis - red line\n",
    "    x_axis_geometry = p3js.BufferGeometry(\n",
    "        attributes={\n",
    "            'position': p3js.BufferAttribute(\n",
    "                array=np.array([-3, 0, 0, 3, 0, 0], dtype=np.float32),\n",
    "                itemSize=3\n",
    "            )\n",
    "        }\n",
    "    )\n",
    "    x_axis_material = p3js.LineBasicMaterial(color='darkred', linewidth=3)\n",
    "    x_axis = p3js.Line(geometry=x_axis_geometry, material=x_axis_material)\n",
    "    scene.add(x_axis)\n",
    "    \n",
    "    # Y axis - green line\n",
    "    y_axis_geometry = p3js.BufferGeometry(\n",
    "        attributes={\n",
    "            'position': p3js.BufferAttribute(\n",
    "                array=np.array([0, -3, 0, 0, 3, 0], dtype=np.float32),\n",
    "                itemSize=3\n",
    "            )\n",
    "        }\n",
    "    )\n",
    "    y_axis_material = p3js.LineBasicMaterial(color='darkgreen', linewidth=3)\n",
    "    y_axis = p3js.Line(geometry=y_axis_geometry, material=y_axis_material)\n",
    "    scene.add(y_axis)\n",
    "    \n",
    "    # Z axis - blue line\n",
    "    z_axis_geometry = p3js.BufferGeometry(\n",
    "        attributes={\n",
    "            'position': p3js.BufferAttribute(\n",
    "                array=np.array([0, 0, -3, 0, 0, 3], dtype=np.float32),\n",
    "                itemSize=3\n",
    "            )\n",
    "        }\n",
    "    )\n",
    "    z_axis_material = p3js.LineBasicMaterial(color='darkblue', linewidth=3)\n",
    "    z_axis = p3js.Line(geometry=z_axis_geometry, material=z_axis_material)\n",
    "    scene.add(z_axis)\n",
    "    \n",
    "    # Add lighting\n",
    "    ambient = p3js.AmbientLight(color='#ffffff', intensity=0.8)\n",
    "    scene.add(ambient)\n",
    "    \n",
    "    directional = p3js.DirectionalLight(color='#ffffff', intensity=0.4)\n",
    "    directional.position = [1, 1, 1]\n",
    "    scene.add(directional)\n",
    "    \n",
    "    return scene\n",
    "\n",
    "# Create the scene\n",
    "scene = create_plane_debug_scene()\n",
    "print(\"✅ Created scene with three manually positioned colored planes and coordinate axes\")\n",
    "print(\"🔴 RED square: XY plane (Z=0) - where 2D data lives\")\n",
    "print(\"🟢 GREEN square: XZ plane (Y=0)\")\n",
    "print(\"🔵 BLUE square: YZ plane (X=0)\")"
   ]
  },
  {
   "cell_type": "markdown",
   "metadata": {},
   "source": [
    "## Test 1: 2D Mode (Camera looking down at XY plane)\n",
    "\n",
    "This simulates our current 2D plotting camera setup. **Expected: RED square should be visible.**"
   ]
  },
  {
   "cell_type": "code",
   "execution_count": 2,
   "metadata": {},
   "outputs": [
    {
     "name": "stdout",
     "output_type": "stream",
     "text": [
      "🔴 2D Mode: Should see RED square (XY plane where our data lives)\n",
      "Camera at (0.0, 0.0, 8.0), looking at origin\n"
     ]
    },
    {
     "data": {
      "application/vnd.jupyter.widget-view+json": {
       "model_id": "d55e83a789104e2b8ee3ce33b9bce695",
       "version_major": 2,
       "version_minor": 0
      },
      "text/plain": [
       "Renderer(camera=PerspectiveCamera(far=100.0, fov=45.0, position=(0.0, 0.0, 8.0), projectionMatrix=(1.0, 0.0, 0…"
      ]
     },
     "execution_count": 2,
     "metadata": {},
     "output_type": "execute_result"
    }
   ],
   "source": [
    "# Test 1: 2D Mode - looking down at XY plane (our current setup)\n",
    "camera1 = p3js.PerspectiveCamera(fov=45, aspect=1.0, near=0.1, far=100)\n",
    "camera1.position = [0, 0, 8]  # Looking down from +Z\n",
    "camera1.up = [0, 1, 0]  # Y axis points up\n",
    "\n",
    "controls1 = p3js.OrbitControls(\n",
    "    controlling=camera1,\n",
    "    target=[0, 0, 0],\n",
    "    enableRotate=False,  # 2D mode\n",
    "    enableDamping=True\n",
    ")\n",
    "\n",
    "renderer1 = p3js.Renderer(\n",
    "    camera=camera1,\n",
    "    scene=scene,\n",
    "    controls=[controls1],\n",
    "    width=500,\n",
    "    height=400\n",
    ")\n",
    "\n",
    "print(\"🔴 2D Mode: Should see RED square (XY plane where our data lives)\")\n",
    "print(f\"Camera at {camera1.position}, looking at origin\")\n",
    "renderer1"
   ]
  },
  {
   "cell_type": "markdown",
   "metadata": {},
   "source": [
    "## Test 2: Side View (Camera looking at YZ plane)\n",
    "\n",
    "**Expected: BLUE square should be visible.**"
   ]
  },
  {
   "cell_type": "code",
   "execution_count": 3,
   "metadata": {},
   "outputs": [
    {
     "name": "stdout",
     "output_type": "stream",
     "text": [
      "🔵 Side View: Should see BLUE square (YZ plane)\n",
      "Camera at (8.0, 0.0, 0.0), looking at origin\n"
     ]
    },
    {
     "data": {
      "application/vnd.jupyter.widget-view+json": {
       "model_id": "b5ec45b04eef40aebdf33d521cfe18ad",
       "version_major": 2,
       "version_minor": 0
      },
      "text/plain": [
       "Renderer(camera=PerspectiveCamera(far=100.0, fov=45.0, position=(8.0, 0.0, 0.0), projectionMatrix=(1.0, 0.0, 0…"
      ]
     },
     "execution_count": 3,
     "metadata": {},
     "output_type": "execute_result"
    }
   ],
   "source": [
    "# Test 2: Side view - looking at YZ plane\n",
    "camera2 = p3js.PerspectiveCamera(fov=45, aspect=1.0, near=0.1, far=100)\n",
    "camera2.position = [8, 0, 0]  # Looking from +X axis\n",
    "camera2.up = [0, 1, 0]\n",
    "\n",
    "controls2 = p3js.OrbitControls(\n",
    "    controlling=camera2,\n",
    "    target=[0, 0, 0],\n",
    "    enableDamping=True\n",
    ")\n",
    "\n",
    "renderer2 = p3js.Renderer(\n",
    "    camera=camera2,\n",
    "    scene=scene,\n",
    "    controls=[controls2],\n",
    "    width=500,\n",
    "    height=400\n",
    ")\n",
    "\n",
    "print(\"🔵 Side View: Should see BLUE square (YZ plane)\")\n",
    "print(f\"Camera at {camera2.position}, looking at origin\")\n",
    "renderer2"
   ]
  },
  {
   "cell_type": "markdown",
   "metadata": {},
   "source": [
    "## Test 3: Front View (Camera looking at XZ plane)\n",
    "\n",
    "**Expected: GREEN square should be visible.**"
   ]
  },
  {
   "cell_type": "code",
   "execution_count": 4,
   "metadata": {},
   "outputs": [
    {
     "name": "stdout",
     "output_type": "stream",
     "text": [
      "🟢 Front View: Should see GREEN square (XZ plane)\n",
      "Camera at (0.0, 8.0, 0.0), looking at origin\n"
     ]
    },
    {
     "data": {
      "application/vnd.jupyter.widget-view+json": {
       "model_id": "9f6769e868e24ddbafb785081d2bf057",
       "version_major": 2,
       "version_minor": 0
      },
      "text/plain": [
       "Renderer(camera=PerspectiveCamera(far=100.0, fov=45.0, position=(0.0, 8.0, 0.0), projectionMatrix=(1.0, 0.0, 0…"
      ]
     },
     "execution_count": 4,
     "metadata": {},
     "output_type": "execute_result"
    }
   ],
   "source": [
    "# Test 3: Front view - looking at XZ plane\n",
    "camera3 = p3js.PerspectiveCamera(fov=45, aspect=1.0, near=0.1, far=100)\n",
    "camera3.position = [0, 8, 0]  # Looking from +Y axis\n",
    "camera3.up = [0, 0, 1]  # Z axis points up in this view\n",
    "\n",
    "controls3 = p3js.OrbitControls(\n",
    "    controlling=camera3,\n",
    "    target=[0, 0, 0],\n",
    "    enableDamping=True\n",
    ")\n",
    "\n",
    "renderer3 = p3js.Renderer(\n",
    "    camera=camera3,\n",
    "    scene=scene,\n",
    "    controls=[controls3],\n",
    "    width=500,\n",
    "    height=400\n",
    ")\n",
    "\n",
    "print(\"🟢 Front View: Should see GREEN square (XZ plane)\")\n",
    "print(f\"Camera at {camera3.position}, looking at origin\")\n",
    "renderer3"
   ]
  },
  {
   "cell_type": "markdown",
   "metadata": {},
   "source": [
    "## Test 4: 3D Diagonal View\n",
    "\n",
    "**Expected: All three colored squares should be visible.**"
   ]
  },
  {
   "cell_type": "code",
   "execution_count": 5,
   "metadata": {},
   "outputs": [
    {
     "name": "stdout",
     "output_type": "stream",
     "text": [
      "🌈 3D View: Should see ALL three squares (red, green, blue)\n",
      "Camera at (5.0, 5.0, 5.0), looking at origin\n"
     ]
    },
    {
     "data": {
      "application/vnd.jupyter.widget-view+json": {
       "model_id": "b3cd899cf4f04290bd71f9fddb8f5f2a",
       "version_major": 2,
       "version_minor": 0
      },
      "text/plain": [
       "Renderer(camera=PerspectiveCamera(far=100.0, fov=60.0, position=(5.0, 5.0, 5.0), projectionMatrix=(1.0, 0.0, 0…"
      ]
     },
     "execution_count": 5,
     "metadata": {},
     "output_type": "execute_result"
    }
   ],
   "source": [
    "# Test 4: 3D diagonal view - should see all planes\n",
    "camera4 = p3js.PerspectiveCamera(fov=60, aspect=1.0, near=0.1, far=100)\n",
    "camera4.position = [5, 5, 5]  # Diagonal view\n",
    "camera4.up = [0, 1, 0]\n",
    "\n",
    "controls4 = p3js.OrbitControls(\n",
    "    controlling=camera4,\n",
    "    target=[0, 0, 0],\n",
    "    enableDamping=True\n",
    ")\n",
    "\n",
    "renderer4 = p3js.Renderer(\n",
    "    camera=camera4,\n",
    "    scene=scene,\n",
    "    controls=[controls4],\n",
    "    width=500,\n",
    "    height=400\n",
    ")\n",
    "\n",
    "print(\"🌈 3D View: Should see ALL three squares (red, green, blue)\")\n",
    "print(f\"Camera at {camera4.position}, looking at origin\")\n",
    "renderer4"
   ]
  },
  {
   "cell_type": "markdown",
   "metadata": {},
   "source": [
    "## Analysis\n",
    "\n",
    "**What to look for:**\n",
    "\n",
    "1. **Test 1 (2D Mode)**: If you see the RED square, our 2D camera setup is correct and the issue is elsewhere\n",
    "2. **Test 2 (Side View)**: If you see the BLUE square, the Y-axis is working properly\n",
    "3. **Test 3 (Front View)**: If you see the GREEN square, there might be a Y/Z axis confusion\n",
    "4. **Test 4 (3D View)**: Should show all three squares to confirm the scene is set up correctly\n",
    "\n",
    "**If Test 1 shows RED but our scatter points appear on y=0:**\n",
    "- The camera is fine, the issue is in our point positioning or BufferAttribute setup\n",
    "\n",
    "**If Test 1 shows GREEN instead of RED:**\n",
    "- There's a coordinate system rotation (Y/Z axis swap)\n",
    "\n",
    "**If Test 1 shows BLUE instead of RED:**\n",
    "- There's a coordinate system rotation (X/Z axis swap)\n",
    "\n",
    "**If nothing is visible in Test 1:**\n",
    "- Camera positioning issue"
   ]
  }
 ],
 "metadata": {
  "kernelspec": {
   "display_name": "Python 3",
   "language": "python",
   "name": "python3"
  },
  "language_info": {
   "codemirror_mode": {
    "name": "ipython",
    "version": 3
   },
   "file_extension": ".py",
   "mimetype": "text/x-python",
   "name": "python",
   "nbconvert_exporter": "python",
   "pygments_lexer": "ipython3",
   "version": "3.12.4"
  }
 },
 "nbformat": 4,
 "nbformat_minor": 4
}
