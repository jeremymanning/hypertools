{
 "cells": [
  {
   "cell_type": "markdown",
   "metadata": {},
   "source": [
    "# Jupyter Three.js Debug Test\n",
    "\n",
    "Testing the 2D scatter plot positioning issue in Jupyter environment."
   ]
  },
  {
   "cell_type": "code",
   "execution_count": 1,
   "metadata": {},
   "outputs": [
    {
     "name": "stdout",
     "output_type": "stream",
     "text": [
      "Setting up environment...\n"
     ]
    }
   ],
   "source": [
    "import numpy as np\n",
    "import sys\n",
    "sys.path.insert(0, '/Users/jmanning/hypertools')\n",
    "import hypertools as hyp\n",
    "\n",
    "# Enable widget extension if needed\n",
    "print(\"Setting up environment...\")"
   ]
  },
  {
   "cell_type": "code",
   "execution_count": 2,
   "metadata": {},
   "outputs": [
    {
     "name": "stdout",
     "output_type": "stream",
     "text": [
      "Test data (X, Y):\n",
      "  Point 1: (0, 3)\n",
      "  Point 2: (1, 1)\n",
      "  Point 3: (2, 0)\n",
      "  Point 4: (3, -1)\n",
      "  Point 5: (4, -3)\n",
      "\n",
      "Y range: -3 to 3\n"
     ]
    }
   ],
   "source": [
    "# Create test data with clear Y separation\n",
    "test_data = np.array([\n",
    "    [0, 3],    # Top point\n",
    "    [1, 1],    # Upper middle\n",
    "    [2, 0],    # Center\n",
    "    [3, -1],   # Lower middle\n",
    "    [4, -3]    # Bottom point\n",
    "])\n",
    "\n",
    "print(\"Test data (X, Y):\")\n",
    "for i, (x, y) in enumerate(test_data):\n",
    "    print(f\"  Point {i+1}: ({x}, {y})\")\n",
    "\n",
    "print(f\"\\nY range: {test_data[:, 1].min()} to {test_data[:, 1].max()}\")"
   ]
  },
  {
   "cell_type": "code",
   "metadata": {},
   "outputs": [],
   "source": "# Create the plot\nprint(\"Creating plot...\")\nfig = hyp.plot(test_data, 'ro', markersize=15)\n\n# Check what type of object we got back\nprint(f\"Figure type: {type(fig)}\")\nprint(f\"Figure object: {fig}\")\n\n# If it's a HyperToolsFigure, we can debug it\nif hasattr(fig, 'dimensionality'):\n    # Debug info for HyperToolsFigure\n    print(f\"Dimensionality: {fig.dimensionality}\")\n    print(f\"Camera position: {fig.camera.position}\")\n    print(f\"Controls target: {fig.controls[0].target}\")\n    \n    # Check the actual data positions\n    positions = fig._data_to_positions(fig.datasets[0])\n    positions_3d = positions.reshape(-1, 3)\n    print(\"\\nActual Three.js positions:\")\n    for i, (x, y, z) in enumerate(positions_3d):\n        print(f\"  Point {i+1}: ({x:.1f}, {y:.1f}, {z:.1f})\")\nelse:\n    print(\"Got Renderer object instead of HyperToolsFigure - need to restart kernel to pick up fixes\")"
  },
  {
   "cell_type": "code",
   "metadata": {},
   "outputs": [],
   "source": "# Display the plot (if we have the right object type)\nif hasattr(fig, 'show'):\n    print(\"Displaying plot - check if points appear on y=0 line or at correct Y positions\")\n    fig.show()\nelse:\n    print(\"Cannot display - fig is a Renderer object, not HyperToolsFigure\")\n    print(\"Restart kernel and re-run cells to pick up the plot.py fix\")\n    # Try to display the renderer directly\n    fig"
  },
  {
   "cell_type": "code",
   "execution_count": 5,
   "metadata": {},
   "outputs": [
    {
     "data": {
      "image/png": "[encoded data removed]",
      "text/plain": [
       "<Figure size 800x600 with 1 Axes>"
      ]
     },
     "metadata": {},
     "output_type": "display_data"
    },
    {
     "name": "stdout",
     "output_type": "stream",
     "text": [
      "\n",
      "If Three.js plot shows all points on y=0 line, but matplotlib shows them spread out,\n",
      "then we have a pythreejs widget rendering issue.\n"
     ]
    }
   ],
   "source": [
    "# For comparison, show matplotlib version\n",
    "import matplotlib.pyplot as plt\n",
    "\n",
    "# Create matplotlib comparison\n",
    "plt.figure(figsize=(8, 6))\n",
    "plt.scatter(test_data[:, 0], test_data[:, 1], c='red', s=100, alpha=0.8)\n",
    "plt.xlabel('X')\n",
    "plt.ylabel('Y')\n",
    "plt.title('Matplotlib Reference (Expected Behavior)')\n",
    "plt.grid(True, alpha=0.3)\n",
    "plt.show()\n",
    "\n",
    "print(\"\\nIf Three.js plot shows all points on y=0 line, but matplotlib shows them spread out,\")\n",
    "print(\"then we have a pythreejs widget rendering issue.\")"
   ]
  },
  {
   "cell_type": "code",
   "execution_count": null,
   "metadata": {},
   "outputs": [],
   "source": []
  }
 ],
 "metadata": {
  "kernelspec": {
   "display_name": "Python 3",
   "language": "python",
   "name": "python3"
  },
  "language_info": {
   "codemirror_mode": {
    "name": "ipython",
    "version": 3
   },
   "file_extension": ".py",
   "mimetype": "text/x-python",
   "name": "python",
   "nbconvert_exporter": "python",
   "pygments_lexer": "ipython3",
   "version": "3.12.4"
  }
 },
 "nbformat": 4,
 "nbformat_minor": 4
}