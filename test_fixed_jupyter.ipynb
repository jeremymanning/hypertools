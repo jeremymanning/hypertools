{
 "cells": [
  {
   "cell_type": "markdown",
   "metadata": {},
   "source": [
    "# Fresh Test of Fixed Three.js Backend\n",
    "\n",
    "Testing the fixed plot.py to ensure proper Y positioning in Jupyter."
   ]
  },
  {
   "cell_type": "code",
   "execution_count": 1,
   "metadata": {},
   "outputs": [
    {
     "name": "stdout",
     "output_type": "stream",
     "text": [
      "Setting up with fixed backend...\n"
     ]
    }
   ],
   "source": [
    "# Fresh import with fixed plot.py\n",
    "import numpy as np\n",
    "import sys\n",
    "sys.path.insert(0, '/Users/jmanning/hypertools')\n",
    "import hypertools as hyp\n",
    "\n",
    "print(\"Setting up with fixed backend...\")"
   ]
  },
  {
   "cell_type": "code",
   "execution_count": 2,
   "metadata": {},
   "outputs": [
    {
     "name": "stdout",
     "output_type": "stream",
     "text": [
      "Test data with extreme Y separation:\n",
      "  Point 1: X=0.0, Y=5.0\n",
      "  Point 2: X=1.0, Y=2.5\n",
      "  Point 3: X=2.0, Y=0.0\n",
      "  Point 4: X=3.0, Y=-2.5\n",
      "  Point 5: X=4.0, Y=-5.0\n",
      "\n",
      "Y range: -5.0 to 5.0\n",
      "If points appear on y=0 line, we have a rendering issue\n",
      "If points appear spread vertically, the fix worked!\n"
     ]
    }
   ],
   "source": [
    "# Test data with VERY clear Y separation\n",
    "test_data = np.array([\n",
    "    [0, 5],    # Top point (Y=5)\n",
    "    [1, 2.5],  # Upper middle (Y=2.5)\n",
    "    [2, 0],    # Center (Y=0)\n",
    "    [3, -2.5], # Lower middle (Y=-2.5)\n",
    "    [4, -5]    # Bottom point (Y=-5)\n",
    "])\n",
    "\n",
    "print(\"Test data with extreme Y separation:\")\n",
    "for i, (x, y) in enumerate(test_data):\n",
    "    print(f\"  Point {i+1}: X={x}, Y={y}\")\n",
    "\n",
    "print(f\"\\nY range: {test_data[:, 1].min()} to {test_data[:, 1].max()}\")\n",
    "print(\"If points appear on y=0 line, we have a rendering issue\")\n",
    "print(\"If points appear spread vertically, the fix worked!\")"
   ]
  },
  {
   "cell_type": "code",
   "execution_count": 3,
   "metadata": {},
   "outputs": [
    {
     "data": {
      "application/vnd.jupyter.widget-view+json": {
       "model_id": "b5f9261c6a864efebd1806e63e8d13e8",
       "version_major": 2,
       "version_minor": 0
      },
      "text/plain": [
       "Renderer(camera=PerspectiveCamera(far=1000.0, fov=45.0, position=(2.0, 0.0, 15.0), projectionMatrix=(1.0, 0.0,…"
      ]
     },
     "metadata": {},
     "output_type": "display_data"
    },
    {
     "name": "stdout",
     "output_type": "stream",
     "text": [
      "Figure type: HyperToolsFigure\n",
      "Dimensionality: 2d\n",
      "Camera position: (2.0, 0.0, 15.0)\n",
      "\n",
      "✅ Data verification:\n",
      "Input Y: [ 5.   2.5  0.  -2.5 -5. ]\n",
      "Three.js Y: [5.0, 2.5, 0.0, -2.5, -5.0]\n",
      "Match: True\n"
     ]
    }
   ],
   "source": [
    "# Create the plot with fixed backend\n",
    "fig = hyp.plot(test_data, 'ro', markersize=20)\n",
    "\n",
    "print(f\"Figure type: {type(fig).__name__}\")\n",
    "print(f\"Dimensionality: {fig.dimensionality}\")\n",
    "print(f\"Camera position: {fig.camera.position}\")\n",
    "\n",
    "# Verify the data is correctly positioned\n",
    "positions = fig._data_to_positions(fig.datasets[0])\n",
    "positions_3d = positions.reshape(-1, 3)\n",
    "\n",
    "print(\"\\n✅ Data verification:\")\n",
    "print(\"Input Y:\", test_data[:, 1])\n",
    "print(\"Three.js Y:\", [p[1] for p in positions_3d])\n",
    "print(\"Match:\", np.allclose(test_data[:, 1], [p[1] for p in positions_3d]))"
   ]
  },
  {
   "cell_type": "code",
   "execution_count": 4,
   "metadata": {},
   "outputs": [
    {
     "name": "stdout",
     "output_type": "stream",
     "text": [
      "🎯 Visual Test: Look at the plot below\n",
      "EXPECTED: 5 red dots spread vertically from top to bottom\n",
      "FAILURE: All 5 dots on a horizontal line (y=0)\n",
      "\n"
     ]
    },
    {
     "data": {
      "application/vnd.jupyter.widget-view+json": {
       "model_id": "b5f9261c6a864efebd1806e63e8d13e8",
       "version_major": 2,
       "version_minor": 0
      },
      "text/plain": [
       "Renderer(camera=PerspectiveCamera(far=1000.0, fov=45.0, position=(2.0, 0.0, 15.0), projectionMatrix=(1.0, 0.0,…"
      ]
     },
     "execution_count": 4,
     "metadata": {},
     "output_type": "execute_result"
    }
   ],
   "source": [
    "# Display the plot\n",
    "print(\"🎯 Visual Test: Look at the plot below\")\n",
    "print(\"EXPECTED: 5 red dots spread vertically from top to bottom\")\n",
    "print(\"FAILURE: All 5 dots on a horizontal line (y=0)\")\n",
    "print(\"\")\n",
    "fig.show()"
   ]
  },
  {
   "cell_type": "code",
   "execution_count": 5,
   "metadata": {},
   "outputs": [
    {
     "data": {
      "image/png": "[encoded data removed]",
      "text/plain": [
       "<Figure size 800x600 with 1 Axes>"
      ]
     },
     "metadata": {},
     "output_type": "display_data"
    },
    {
     "name": "stdout",
     "output_type": "stream",
     "text": [
      "The Three.js plot above should match this matplotlib reference.\n"
     ]
    }
   ],
   "source": [
    "# Matplotlib reference for comparison\n",
    "import matplotlib.pyplot as plt\n",
    "\n",
    "plt.figure(figsize=(8, 6))\n",
    "plt.scatter(test_data[:, 0], test_data[:, 1], c='red', s=200, alpha=0.8)\n",
    "plt.xlabel('X')\n",
    "plt.ylabel('Y')\n",
    "plt.title('Matplotlib Reference - This is what Three.js should look like')\n",
    "plt.grid(True, alpha=0.3)\n",
    "plt.ylim(-6, 6)\n",
    "plt.show()\n",
    "\n",
    "print(\"The Three.js plot above should match this matplotlib reference.\")"
   ]
  }
 ],
 "metadata": {
  "kernelspec": {
   "display_name": "Python 3",
   "language": "python",
   "name": "python3"
  },
  "language_info": {
   "codemirror_mode": {
    "name": "ipython",
    "version": 3
   },
   "file_extension": ".py",
   "mimetype": "text/x-python",
   "name": "python",
   "nbconvert_exporter": "python",
   "pygments_lexer": "ipython3",
   "version": "3.12.4"
  }
 },
 "nbformat": 4,
 "nbformat_minor": 4
}
