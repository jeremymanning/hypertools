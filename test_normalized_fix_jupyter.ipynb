{
 "cells": [
  {
   "cell_type": "markdown",
   "metadata": {},
   "source": [
    "# Testing normalized=False Fix\n",
    "\n",
    "The issue was that BufferAttribute had normalized=True, which was causing Y coordinates to be flattened. This should now be fixed."
   ]
  },
  {
   "cell_type": "code",
   "execution_count": null,
   "metadata": {},
   "outputs": [],
   "source": [
    "import numpy as np\n",
    "import sys\n",
    "sys.path.insert(0, '/Users/jmanning/hypertools')\n",
    "import hypertools as hyp\n",
    "\n",
    "print(\"✅ Testing normalized=False fix...\")"
   ]
  },
  {
   "cell_type": "code",
   "execution_count": null,
   "metadata": {},
   "outputs": [],
   "source": [
    "# Test 1: Simple vertical test\n",
    "print(\"Test 1: Three points vertically aligned\")\n",
    "vertical_data = np.array([\n",
    "    [0, 3],    # Top (Y=3)\n",
    "    [0, 0],    # Center (Y=0)\n",
    "    [0, -3]    # Bottom (Y=-3)\n",
    "])\n",
    "\n",
    "print(f\"Y coordinates: {vertical_data[:, 1]}\")\n",
    "print(\"\\nExpected: 3 red dots vertically separated\")\n",
    "\n",
    "# This should now show points at correct Y positions\n",
    "hyp.plot(vertical_data, 'ro', markersize=10, alpha=0.9)"
   ]
  },
  {
   "cell_type": "code",
   "execution_count": null,
   "metadata": {},
   "outputs": [],
   "source": [
    "# Test 2: Cross pattern\n",
    "print(\"Test 2: Cross pattern (+)\")\n",
    "cross_data = np.array([\n",
    "    [0, 2],    # Top\n",
    "    [2, 0],    # Right\n",
    "    [0, -2],   # Bottom\n",
    "    [-2, 0]    # Left\n",
    "])\n",
    "\n",
    "print(\"Expected: 4 blue dots forming a + shape\")\n",
    "hyp.plot(cross_data, 'bo', markersize=8)"
   ]
  },
  {
   "cell_type": "code",
   "execution_count": null,
   "metadata": {},
   "outputs": [],
   "source": [
    "# Test 3: Circle line\n",
    "print(\"Test 3: Circle line\")\n",
    "t = np.linspace(0, 2*np.pi, 30)\n",
    "circle = np.column_stack([np.cos(t), np.sin(t)])\n",
    "\n",
    "print(\"Expected: Green circle (now with proper zoom level)\")\n",
    "hyp.plot(circle, 'g-', linewidth=2)"
   ]
  },
  {
   "cell_type": "code",
   "execution_count": null,
   "metadata": {},
   "outputs": [],
   "source": [
    "# Test 4: Random scatter\n",
    "print(\"Test 4: Random scatter\")\n",
    "np.random.seed(42)\n",
    "scatter = np.random.randn(15, 2) * 1.5\n",
    "\n",
    "print(f\"Y range: {scatter[:, 1].min():.2f} to {scatter[:, 1].max():.2f}\")\n",
    "print(\"Expected: Points distributed across full Y range\")\n",
    "hyp.plot(scatter, 'mo', markersize=6, alpha=0.7)"
   ]
  },
  {
   "cell_type": "markdown",
   "metadata": {},
   "source": [
    "## Key Fixes Applied\n",
    "\n",
    "1. **BufferAttribute**: Added `normalized=False` to prevent position normalization\n",
    "2. **Point Size**: Reduced from 2x to 1x (normal size)\n",
    "3. **Line Width**: Back to normal (not 2x)\n",
    "4. **Camera Distance**: Reduced from 2x to 1.5x data range for better zoom\n",
    "\n",
    "**If Y coordinates are now correct, the fix worked!** 🎉"
   ]
  }
 ],
 "metadata": {
  "kernelspec": {
   "display_name": "Python 3",
   "language": "python",
   "name": "python3"
  },
  "language_info": {
   "codemirror_mode": {
    "name": "ipython",
    "version": 3
   },
   "file_extension": ".py",
   "mimetype": "text/x-python",
   "name": "python",
   "nbconvert_exporter": "python",
   "pygments_lexer": "ipython3",
   "version": "3.8.5"
  }
 },
 "nbformat": 4,
 "nbformat_minor": 4
}