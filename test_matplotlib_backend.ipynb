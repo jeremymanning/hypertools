{
 "cells": [
  {
   "cell_type": "markdown",
   "metadata": {},
   "source": [
    "# HyperTools Matplotlib Backend Testing\n",
    "\n",
    "This notebook tests the new matplotlib backend implementation for hypertools plotting.\n",
    "\n",
    "## Features to Test:\n",
    "- 2D and 3D scatter plots\n",
    "- Line plots and trajectory visualization\n",
    "- Format string support (matplotlib-style)\n",
    "- Multiple dataset plotting\n",
    "- Color mapping and legends\n",
    "- Publication-quality output"
   ]
  },
  {
   "cell_type": "code",
   "execution_count": null,
   "metadata": {},
   "outputs": [],
   "source": [
    "# Import required libraries\n",
    "import numpy as np\n",
    "import pandas as pd\n",
    "import matplotlib.pyplot as plt\n",
    "from sklearn.datasets import make_blobs\n",
    "import warnings\n",
    "warnings.filterwarnings('ignore')\n",
    "\n",
    "# Set up matplotlib for jupyter\n",
    "%matplotlib inline\n",
    "plt.style.use('seaborn-v0_8-white')\n",
    "\n",
    "print(\"Libraries imported successfully!\")"
   ]
  },
  {
   "cell_type": "code",
   "execution_count": null,
   "metadata": {},
   "outputs": [],
   "source": [
    "# Import hypertools with our new matplotlib backend\n",
    "import sys\n",
    "import os\n",
    "sys.path.insert(0, os.getcwd())\n",
    "\n",
    "import hypertools as hyp\n",
    "print(\"HyperTools imported successfully!\")\n",
    "print(f\"HyperTools version: {hyp.__version__ if hasattr(hyp, '__version__') else 'Development'}\")"
   ]
  },
  {
   "cell_type": "markdown",
   "metadata": {},
   "source": [
    "## Test 1: Basic 2D Scatter Plot"
   ]
  },
  {
   "cell_type": "code",
   "execution_count": null,
   "metadata": {},
   "outputs": [],
   "source": [
    "# Generate simple 2D data\n",
    "np.random.seed(42)\n",
    "data_2d = np.random.randn(100, 2)\n",
    "\n",
    "# Create basic 2D plot\n",
    "print(\"Creating 2D scatter plot...\")\n",
    "fig = hyp.plot(data_2d)\n",
    "plt.title('Basic 2D Scatter Plot')\n",
    "plt.show()\n",
    "print(\"✓ 2D scatter plot created successfully!\")"
   ]
  },
  {
   "cell_type": "markdown",
   "metadata": {},
   "source": [
    "## Test 2: Basic 3D Scatter Plot"
   ]
  },
  {
   "cell_type": "code",
   "execution_count": null,
   "metadata": {},
   "outputs": [],
   "source": [
    "# Generate simple 3D data\n",
    "np.random.seed(42)\n",
    "data_3d = np.random.randn(100, 3)\n",
    "\n",
    "# Create basic 3D plot\n",
    "print(\"Creating 3D scatter plot...\")\n",
    "fig = hyp.plot(data_3d)\n",
    "plt.title('Basic 3D Scatter Plot')\n",
    "plt.show()\n",
    "print(\"✓ 3D scatter plot created successfully!\")"
   ]
  },
  {
   "cell_type": "markdown",
   "metadata": {},
   "source": [
    "## Test 3: Format String Support"
   ]
  },
  {
   "cell_type": "code",
   "execution_count": null,
   "metadata": {},
   "outputs": [],
   "source": [
    "# Test different matplotlib format strings\n",
    "np.random.seed(42)\n",
    "data = np.random.randn(50, 2)\n",
    "\n",
    "# Test various format strings\n",
    "format_strings = ['ro-', 'g^--', 'bs:', 'mv-']\n",
    "titles = ['Red circles with lines', 'Green triangles with dashed lines', \n",
    "          'Blue squares with dotted lines', 'Magenta diamonds with lines']\n",
    "\n",
    "fig, axes = plt.subplots(2, 2, figsize=(12, 10))\n",
    "axes = axes.flatten()\n",
    "\n",
    "for i, (fmt, title) in enumerate(zip(format_strings, titles)):\n",
    "    print(f\"Testing format string: {fmt}\")\n",
    "    \n",
    "    # Create subplot\n",
    "    plt.sca(axes[i])\n",
    "    fig_hyp = hyp.plot(data + i, fmt, ax=axes[i])\n",
    "    axes[i].set_title(f'{title} ({fmt})')\n",
    "    axes[i].grid(True, alpha=0.3)\n",
    "\n",
    "plt.tight_layout()\n",
    "plt.show()\n",
    "print(\"✓ Format string tests completed successfully!\")"
   ]
  },
  {
   "cell_type": "markdown",
   "metadata": {},
   "source": [
    "## Test 4: Multiple Datasets with Automatic Colors"
   ]
  },
  {
   "cell_type": "code",
   "execution_count": null,
   "metadata": {},
   "outputs": [],
   "source": [
    "# Generate multiple datasets\n",
    "np.random.seed(42)\n",
    "data1 = np.random.randn(50, 2) + np.array([0, 0])\n",
    "data2 = np.random.randn(50, 2) + np.array([3, 3])\n",
    "data3 = np.random.randn(50, 2) + np.array([-2, 4])\n",
    "\n",
    "datasets = [data1, data2, data3]\n",
    "\n",
    "print(\"Creating plot with multiple datasets...\")\n",
    "fig = hyp.plot(datasets, legend=True)\n",
    "plt.title('Multiple Datasets with Automatic Colors')\n",
    "plt.legend(['Dataset 1', 'Dataset 2', 'Dataset 3'])\n",
    "plt.grid(True, alpha=0.3)\n",
    "plt.show()\n",
    "print(\"✓ Multiple dataset plot created successfully!\")"
   ]
  },
  {
   "cell_type": "markdown",
   "metadata": {},
   "source": [
    "## Test 5: Line Plot (Trajectory Visualization)"
   ]
  },
  {
   "cell_type": "code",
   "execution_count": null,
   "metadata": {},
   "outputs": [],
   "source": [
    "# Generate trajectory data\n",
    "t = np.linspace(0, 4*np.pi, 100)\n",
    "trajectory_2d = pd.DataFrame({\n",
    "    'x': np.cos(t) + 0.1*np.random.randn(100),\n",
    "    'y': np.sin(t) + 0.1*np.random.randn(100)\n",
    "})\n",
    "\n",
    "trajectory_3d = pd.DataFrame({\n",
    "    'x': np.cos(t) + 0.1*np.random.randn(100),\n",
    "    'y': np.sin(t) + 0.1*np.random.randn(100),\n",
    "    'z': t/4 + 0.1*np.random.randn(100)\n",
    "})\n",
    "\n",
    "# Create 2D and 3D trajectory plots\n",
    "fig, (ax1, ax2) = plt.subplots(1, 2, figsize=(15, 6), \n",
    "                               subplot_kw=[{}, {'projection': '3d'}])\n",
    "\n",
    "print(\"Creating 2D trajectory plot...\")\n",
    "hyp.plot(trajectory_2d, mode='lines', ax=ax1)\n",
    "ax1.set_title('2D Trajectory (Line Plot)')\n",
    "ax1.grid(True, alpha=0.3)\n",
    "\n",
    "print(\"Creating 3D trajectory plot...\")\n",
    "hyp.plot(trajectory_3d, mode='lines', ax=ax2)\n",
    "ax2.set_title('3D Trajectory (Line Plot)')\n",
    "\n",
    "plt.tight_layout()\n",
    "plt.show()\n",
    "print(\"✓ Trajectory plots created successfully!\")"
   ]
  },
  {
   "cell_type": "markdown",
   "metadata": {},
   "source": [
    "## Test 6: Lines + Markers Mode"
   ]
  },
  {
   "cell_type": "code",
   "execution_count": null,
   "metadata": {},
   "outputs": [],
   "source": [
    "# Generate sample data\n",
    "np.random.seed(42)\n",
    "t = np.linspace(0, 2*np.pi, 20)\n",
    "data_combined = pd.DataFrame({\n",
    "    'x': np.cos(t) + 0.05*np.random.randn(20),\n",
    "    'y': np.sin(t) + 0.05*np.random.randn(20)\n",
    "})\n",
    "\n",
    "print(\"Creating plot with lines and markers...\")\n",
    "fig = hyp.plot(data_combined, mode='lines+markers', markersize=8, linewidth=2)\n",
    "plt.title('Lines + Markers Mode')\n",
    "plt.grid(True, alpha=0.3)\n",
    "plt.show()\n",
    "print(\"✓ Lines + markers plot created successfully!\")"
   ]
  },
  {
   "cell_type": "markdown",
   "metadata": {},
   "source": [
    "## Test 7: Color Mapping with Clustering"
   ]
  },
  {
   "cell_type": "code",
   "execution_count": null,
   "metadata": {},
   "outputs": [],
   "source": [
    "# Generate clustered data\n",
    "np.random.seed(42)\n",
    "clustered_data, true_labels = make_blobs(n_samples=200, centers=4, n_features=2, \n",
    "                                        random_state=42, cluster_std=1.0)\n",
    "\n",
    "print(\"Creating plot with automatic clustering...\")\n",
    "try:\n",
    "    # Test clustering functionality\n",
    "    fig = hyp.plot(clustered_data, cluster={'model': 'KMeans', 'kwargs': {'n_clusters': 4}})\n",
    "    plt.title('Automatic Clustering and Color Mapping')\n",
    "    plt.grid(True, alpha=0.3)\n",
    "    plt.show()\n",
    "    print(\"✓ Clustering plot created successfully!\")\n",
    "except Exception as e:\n",
    "    print(f\"Note: Clustering test failed ({e}), showing manual color mapping instead\")\n",
    "    \n",
    "    # Manual color assignment based on true labels\n",
    "    colors = plt.cm.Set1(true_labels / np.max(true_labels))\n",
    "    fig = hyp.plot(clustered_data, color=colors)\n",
    "    plt.title('Manual Color Mapping')\n",
    "    plt.grid(True, alpha=0.3)\n",
    "    plt.show()\n",
    "    print(\"✓ Manual color mapping plot created successfully!\")"
   ]
  },
  {
   "cell_type": "markdown",
   "metadata": {},
   "source": [
    "## Test 8: High-Dimensional Data Reduction"
   ]
  },
  {
   "cell_type": "code",
   "execution_count": null,
   "metadata": {},
   "outputs": [],
   "source": [
    "# Generate high-dimensional data\n",
    "np.random.seed(42)\n",
    "high_dim_data = np.random.randn(100, 10)  # 10-dimensional data\n",
    "\n",
    "print(\"Creating plot with automatic dimensionality reduction...\")\n",
    "fig = hyp.plot(high_dim_data)  # Should automatically reduce to 3D\n",
    "plt.title('High-Dimensional Data (Auto-Reduced to 3D)')\n",
    "plt.show()\n",
    "print(\"✓ High-dimensional data plot created successfully!\")"
   ]
  },
  {
   "cell_type": "markdown",
   "metadata": {},
   "source": [
    "## Test 9: Publication-Quality Export"
   ]
  },
  {
   "cell_type": "code",
   "execution_count": null,
   "metadata": {},
   "outputs": [],
   "source": [
    "# Create a publication-quality figure\n",
    "np.random.seed(42)\n",
    "pub_data = np.random.randn(100, 2)\n",
    "\n",
    "print(\"Creating publication-quality figure...\")\n",
    "fig = hyp.plot(pub_data, 'o', markersize=8, alpha=0.7)\n",
    "plt.title('Publication-Quality Figure', fontsize=16, fontweight='bold')\n",
    "plt.xlabel('Dimension 1', fontsize=14)\n",
    "plt.ylabel('Dimension 2', fontsize=14)\n",
    "plt.grid(True, alpha=0.3)\n",
    "\n",
    "# Save as high-quality PNG and PDF\n",
    "plt.savefig('publication_figure.png', dpi=300, bbox_inches='tight')\n",
    "plt.savefig('publication_figure.pdf', bbox_inches='tight')\n",
    "plt.show()\n",
    "\n",
    "print(\"✓ Publication-quality figure created and saved!\")\n",
    "print(\"  - Saved as: publication_figure.png (300 DPI)\")\n",
    "print(\"  - Saved as: publication_figure.pdf (vector)\")"
   ]
  },
  {
   "cell_type": "markdown",
   "metadata": {},
   "source": [
    "## Test 10: Performance Test with Large Dataset"
   ]
  },
  {
   "cell_type": "code",
   "execution_count": null,
   "metadata": {},
   "outputs": [],
   "source": [
    "import time\n",
    "\n",
    "# Test performance with larger dataset\n",
    "print(\"Testing performance with large dataset...\")\n",
    "np.random.seed(42)\n",
    "large_data = np.random.randn(5000, 3)  # 5000 points in 3D\n",
    "\n",
    "start_time = time.time()\n",
    "fig = hyp.plot(large_data, alpha=0.6, markersize=4)\n",
    "end_time = time.time()\n",
    "\n",
    "plt.title(f'Large Dataset (5000 points) - Rendered in {end_time-start_time:.2f}s')\n",
    "plt.show()\n",
    "\n",
    "print(f\"✓ Large dataset rendered successfully in {end_time-start_time:.2f} seconds!\")"
   ]
  },
  {
   "cell_type": "markdown",
   "metadata": {},
   "source": [
    "## Summary\n",
    "\n",
    "**Matplotlib Backend Test Results:**\n",
    "\n",
    "If all tests above completed successfully, the matplotlib backend implementation is working correctly and provides:\n",
    "\n",
    "✅ **Basic 2D and 3D plotting**  \n",
    "✅ **Format string support** (matplotlib-style)  \n",
    "✅ **Multiple dataset handling**  \n",
    "✅ **Line plots and trajectories**  \n",
    "✅ **Lines + markers mode**  \n",
    "✅ **Color mapping capabilities**  \n",
    "✅ **Dimensionality reduction**  \n",
    "✅ **Publication-quality output**  \n",
    "✅ **Good performance** with large datasets  \n",
    "\n",
    "The implementation successfully replaces the Plotly backend with matplotlib while maintaining the hypertools API and adding publication-quality output capabilities."
   ]
  },
  {
   "cell_type": "code",
   "execution_count": null,
   "metadata": {},
   "outputs": [],
   "source": [
    "# Clean up test files\n",
    "import os\n",
    "try:\n",
    "    os.remove('publication_figure.png')\n",
    "    os.remove('publication_figure.pdf')\n",
    "    print(\"Test files cleaned up.\")\n",
    "except:\n",
    "    pass\n",
    "\n",
    "print(\"\\n🎉 All matplotlib backend tests completed!\")\n",
    "print(\"The implementation is ready for production use.\")"
   ]
  }
 ],
 "metadata": {
  "kernelspec": {
   "display_name": "Python 3",
   "language": "python",
   "name": "python3"
  },
  "language_info": {
   "codemirror_mode": {
    "name": "ipython",
    "version": 3
   },
   "file_extension": ".py",
   "mimetype": "text/x-python",
   "name": "python",
   "nbconvert_exporter": "python",
   "pygments_lexer": "ipython3",
   "version": "3.8.5"
  }
 },
 "nbformat": 4,
 "nbformat_minor": 4
}